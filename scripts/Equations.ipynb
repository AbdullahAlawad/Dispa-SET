{
 "cells": [
  {
   "cell_type": "markdown",
   "metadata": {},
   "source": [
    "## Equations"
   ]
  },
  {
   "cell_type": "markdown",
   "metadata": {},
   "source": [
    "$\n",
    "Sets: \\\\\n",
    "i = time \\ step \\ (e.g.\\ hour)\\\\\n",
    "f = fuel \\\\\n",
    "n = node \\ (or \\ zone) \\\\\n",
    "u = unit \\\\\n",
    "l = line \\\\.\\\\\n",
    "Parameters: \\\\\n",
    "Location_{u,n} = \\ whether \\ unit \\ (u) \\ is \\ located \\ in \\ node \\ (n) \\ or \\ not \\ - (1,0) \\\\\n",
    "LineNode_{l,n} = \\ whether \\ line \\ (l) \\ is \\ connected \\ to \\ node \\ (n) \\ or \\ from \\ node \\ (n) \\ - (1,-1) \\\\\n",
    "VariableCost_{u,i} = first \\ variable \\ cost \\ used \\ for \\ internal \\ dispatch\\\\\n",
    "VariableCostB_{u,i} = second \\ variable \\ cost \\ used \\ for \\ export \\ dispatch\\\\\n",
    "[VariableCost_{u,i} = \\frac{FuelPrice_{n,f,i}}{UnitEfficiency_{u}}]\n",
    "$"
   ]
  },
  {
   "cell_type": "markdown",
   "metadata": {},
   "source": [
    "### Power generation for each unit (variables defenition)"
   ]
  },
  {
   "cell_type": "markdown",
   "metadata": {},
   "source": [
    "$\n",
    "Power_{u,i} = \\sum_{n} PowerN_{u,n,i} \\\\\n",
    "Power_{u,i}: \\ power \\ generated \\ from \\ unit \\ (u) \\\\\n",
    "PowerN_{u,n,i}: \\ portion \\ of \\ power \\ generated \\ from \\ unit \\ (u) \\ that \\ is \\ dedicated \\ for \\ node \\ (n) \\\\\n",
    "$"
   ]
  },
  {
   "cell_type": "markdown",
   "metadata": {},
   "source": [
    "### Demand balance equation"
   ]
  },
  {
   "cell_type": "markdown",
   "metadata": {},
   "source": [
    "$\n",
    "Demand \\ balance_{n,i} \\ .. \\\\\n",
    "\\sum_{u} Power_{u,i} \\cdot Location_{u,n} + \\sum_{l}Flow_{l,i} \\cdot \\mid(LineNode_{l,n})\\mid \\ = Demand_{n,i} - ShedLoad_{n,i} - LLMaxPower_{n,i} + LLMinPower(n,i)\n",
    "$"
   ]
  },
  {
   "cell_type": "markdown",
   "metadata": {},
   "source": [
    "$\n",
    "PowerOrigin_{n,i} \\ .. \\\\\n",
    "\\sum_{u}(1 - Location_{u,n}) \\cdot PowerN_{u,n,i} - \\sum_{u,nn} Location_{u,n}  \\cdot (1-Location_{u,nn})  \\cdot PowerN_{u,nn,i} = \\sum_{l} LineNode_{l,n}  \\cdot Flow(l,i)) - \\sum_{l} LineNode_{l,n}  \\cdot Flow_{l,i}\n",
    "$"
   ]
  },
  {
   "cell_type": "markdown",
   "metadata": {},
   "source": [
    "### System cost & Objective function"
   ]
  },
  {
   "cell_type": "markdown",
   "metadata": {},
   "source": [
    "$\n",
    "SystemCost_{n,i} \\ .. \\\\\n",
    "SystemCost_{n,i} \\ = \\ \\sum_{u} [ \\ CostFixed_{u} \\cdot Committed_{u,i} + CostStartUp_{u,i} + CostShutDown_{u,i} + CostRampUp_{u,i} + CostRampDown_{u,i} + CostVariable_{u,i} \\cdot PowerN_{u,n,i}  + (1 - CostVariableB_{u,i}) \\cdot PowerN_{u,n,i}  + CostLoadShedding_{n,i} \\cdot ShedLoad_{n,i} + VOLL_{Power} \\cdot (LostLoadMaxPower_{n,i} + LostLoadMinPower_{n,i}) + VOLL_{Reserve} \\cdot (LostLoadReserve2U_{n,i} + LostLoadReserve2D_{n,i}) + VOLL_{Ramp} \\cdot (LostLoadRampUp_{u,i} + LostLoadRampDown_{u,i}) \\ ]\n",
    "$"
   ]
  },
  {
   "cell_type": "markdown",
   "metadata": {},
   "source": [
    "$\n",
    "Objective function \\ .. \\\\\n",
    "\\displaystyle{ \\min_{} \\ \\sum_{n,i} SystemCost_{n,i} + \\sum_{l,i} PriceTransimission_{l,i} \\cdot Flow_{l,i}}   \n",
    "$"
   ]
  },
  {
   "cell_type": "markdown",
   "metadata": {},
   "source": [
    "### Nodal price"
   ]
  },
  {
   "cell_type": "markdown",
   "metadata": {},
   "source": [
    "$\n",
    "Nodal \\ Price_{n,i} = Demand \\ balance_{n,i}.m \\  \\ (dual \\ variable)\n",
    "$"
   ]
  },
  {
   "cell_type": "markdown",
   "metadata": {},
   "source": [
    "### Node average generation cost (Node electricity price) ($/MWh)"
   ]
  },
  {
   "cell_type": "markdown",
   "metadata": {},
   "source": [
    "$ \n",
    "1) \\\\ [ \\ Node \\ Price = \\frac{Cost \\ of \\ local \\ node \\ generation \\ + \\ Cost \\ of \\ node \\ imports}{node \\ demand} \\ ] \\ that \\ is: \\\\\n",
    "Node \\ Price_{n,i} = \\frac{\\sum_{u} PowerN_{u,n,i} \\cdot Location_{u,n} \\cdot VariableCost_{u,i} \\ + \\ \\sum_{u} PowerN_{u,n,i} \\cdot (1-Location_{u,n}) \\cdot VariableCostB_{u,i}}{Demand_{n,i}} \\\\\n",
    "$ \n"
   ]
  },
  {
   "cell_type": "markdown",
   "metadata": {},
   "source": [
    "$\n",
    "OR \\\\\n",
    "2) \\\\ [ \\ Node \\ Price = \\frac{Cost \\ of \\ local \\ node \\ generation \\ + \\ Cost \\ of \\ node \\ imports \\ + \\ Cost \\ of \\ node \\ exports}{node \\ demand + node \\ exports} \\ ] \\ that \\ is: \\\\\n",
    "Node \\ Price_{n,i} = \\frac{\\sum_{u} PowerN_{u,n,i} \\cdot Location_{u,n} \\cdot VariableCost_{u,i} \\ + \\ \\sum_{u} PowerN_{u,n,i} \\cdot (1-Location_{u,n}) \\cdot VariableCostB_{u,i} \\ + \\ \\sum_{u} (Power_{u,i}-PowerN_{u,n,i}) \\cdot Location_{u,n} \\cdot VariableCostB_{u,i}}{Demand_{n,i} \\ + \\ \\sum_{n}(Power_{u,i}-PowerN_{u,n,i}) \\cdot Location_{u,n}} \\\\\n",
    "$"
   ]
  },
  {
   "cell_type": "markdown",
   "metadata": {},
   "source": [
    "$\n",
    "OR \\\\\n",
    "3) \\\\ [ \\ Node \\ Price = \\frac{Cost \\ of \\ local \\ node \\ generation \\ + \\ Cost \\ of \\ node \\ exports}{node \\ demand - node \\ imports + node \\ exports} \\ ] \\ that \\ is: \\\\\n",
    "Node \\ Price_{n,i} = \\frac{\\sum_{u} PowerN_{u,n,i} \\cdot Location_{u,n} \\cdot VariableCost_{u,i} \\ + \\ \\sum_{u} (Power_{u,i}-PowerN_{u,n,i}) \\cdot Location_{u,n} \\cdot VariableCostB_{u,i}}{Demand_{n,i} \\ - \\ \\sum_{n}PowerN_{u,n,i} \\cdot (1-Location_{u,n}) \\ + \\ \\sum_{n}(Power_{u,i}-PowerN_{u,n,i}) \\cdot Location_{u,n}} \\\\\n",
    "$"
   ]
  },
  {
   "cell_type": "markdown",
   "metadata": {},
   "source": []
  },
  {
   "cell_type": "code",
   "execution_count": null,
   "metadata": {},
   "outputs": [],
   "source": []
  }
 ],
 "metadata": {
  "kernelspec": {
   "display_name": "Python 3",
   "language": "python",
   "name": "python3"
  },
  "language_info": {
   "codemirror_mode": {
    "name": "ipython",
    "version": 3
   },
   "file_extension": ".py",
   "mimetype": "text/x-python",
   "name": "python",
   "nbconvert_exporter": "python",
   "pygments_lexer": "ipython3",
   "version": "3.7.3"
  }
 },
 "nbformat": 4,
 "nbformat_minor": 2
}
