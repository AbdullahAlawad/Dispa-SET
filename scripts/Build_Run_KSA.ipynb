{
 "cells": [
  {
   "cell_type": "code",
   "execution_count": 1,
   "metadata": {},
   "outputs": [],
   "source": [
    "# Change directory to the root folder of Dispa-SET:\n",
    "import os\n",
    "import sys\n",
    "os.chdir('..')\n",
    "import numpy as np\n",
    "import pandas as pd\n",
    "import datetime as dt\n",
    "from dispaset.postprocessing import postprocessing as post\n",
    "import importlib\n",
    "importlib.reload(post)\n",
    "%matplotlib inline\n",
    "#Import Dispa-SET\n",
    "import dispaset as ds\n",
    "import matplotlib.pyplot as plt\n",
    "from matplotlib.pyplot import *\n",
    "import seaborn as sns\n",
    "import matplotlib.dates as mdates\n",
    "#plt.style.use('seaborn-colorblind')\n",
    "import pickle\n",
    "import time as tm\n",
    "import logging\n",
    "import matplotlib"
   ]
  },
  {
   "cell_type": "code",
   "execution_count": 2,
   "metadata": {},
   "outputs": [],
   "source": [
    "%matplotlib inline\n",
    "import matplotlib\n",
    "matplotlib.rcParams['figure.figsize'] = [16, 8]"
   ]
  },
  {
   "cell_type": "code",
   "execution_count": 3,
   "metadata": {},
   "outputs": [],
   "source": [
    "pd.options.display.max_rows = 60   #default 60 (None)\n",
    "pd.options.display.max_columns = 60   #default 60 (None)\n",
    "np.set_printoptions(threshold=np.inf)   #default 1000 (np.inf)"
   ]
  },
  {
   "cell_type": "code",
   "execution_count": 4,
   "metadata": {},
   "outputs": [],
   "source": [
    "try:\n",
    "    import cPickle as pickle\n",
    "except ImportError:\n",
    "    import pickle"
   ]
  },
  {
   "cell_type": "code",
   "execution_count": 5,
   "metadata": {},
   "outputs": [],
   "source": [
    "def FindNetPowerFlow(PowerFlow):\n",
    "    NewOutputFlow = PowerFlow.copy()\n",
    "    OriginalColumns = []\n",
    "    reverseindex = []\n",
    "    for j,column in enumerate(NewOutputFlow):\n",
    "        A = column.split(' -> ')\n",
    "        OriginalColumns.append(A)\n",
    "        B = list(reversed(A))\n",
    "        if B in OriginalColumns:\n",
    "            reverseindex.append(j)\n",
    "            D = [i for i, C in enumerate(OriginalColumns) if C==B]\n",
    "            D = int(''.join(map(str,D)))\n",
    "            NewOutputFlow.iloc[:,D] = NewOutputFlow.iloc[:,D] - NewOutputFlow.iloc[:,j]\n",
    "    NewOutputFlow = NewOutputFlow.drop(NewOutputFlow.columns[reverseindex], axis=1).copy()\n",
    "    return NewOutputFlow"
   ]
  },
  {
   "cell_type": "code",
   "execution_count": 6,
   "metadata": {},
   "outputs": [],
   "source": [
    "def FindUniquePowerExchange(PowerExchange):\n",
    "    NewPowerExchange = PowerExchange.copy()\n",
    "    Combinations = []\n",
    "    reverseindex = []\n",
    "\n",
    "    for zone1 in NewPowerExchange.columns.unique(level=0):\n",
    "        for zone2 in NewPowerExchange.columns.unique(level=1):\n",
    "            if zone1!=zone2:\n",
    "                List = [zone1,zone2]\n",
    "            if List not in Combinations:\n",
    "                try:\n",
    "                    NewPowerExchange.drop((zone2,zone1), axis = 1, inplace = True)\n",
    "                except:\n",
    "                    pass\n",
    "                Combinations.append(List)\n",
    "                Combinations.append(list(reversed(List)))\n",
    "    return NewPowerExchange"
   ]
  },
  {
   "cell_type": "code",
   "execution_count": 7,
   "metadata": {},
   "outputs": [
    {
     "data": {
      "text/plain": [
       "<module 'dispaset.postprocessing.postprocessing' from '/Users/abdullahalawad/Dropbox (MIT)/CCES/2017/Energy/Regional trade/UC&ED/dispaset/PycharmProjects/UC Model/dispaset/postprocessing/postprocessing.py'>"
      ]
     },
     "execution_count": 7,
     "metadata": {},
     "output_type": "execute_result"
    }
   ],
   "source": [
    "from dispaset.postprocessing import postprocessing as post\n",
    "import importlib\n",
    "importlib.reload(post)"
   ]
  },
  {
   "cell_type": "markdown",
   "metadata": {},
   "source": [
    "##  Test (build & run)"
   ]
  },
  {
   "cell_type": "code",
   "execution_count": 8,
   "metadata": {},
   "outputs": [
    {
     "name": "stderr",
     "output_type": "stream",
     "text": [
      "[INFO    ] (load_config_excel): Using config file Simulations/ConfigKSA.xlsx to build the simulation environment\n",
      "[INFO    ] (load_config_excel): Using /Users/abdullahalawad/Dropbox (MIT)/CCES/2017/Energy/Regional trade/UC&ED/dispaset/PycharmProjects/UC Model/Simulations/simulation_KSA as simulation folder\n"
     ]
    }
   ],
   "source": [
    "# Load the configuration file\n",
    "config = ds.load_config_excel('Simulations/ConfigKSA.xlsx')"
   ]
  },
  {
   "cell_type": "code",
   "execution_count": 9,
   "metadata": {},
   "outputs": [
    {
     "name": "stderr",
     "output_type": "stream",
     "text": [
      "[INFO    ] (build_simulation): New build started. DispaSET version: b'v2.3-9-g2ff8285'\n",
      "[INFO    ] (NodeBasedTable): No data file found for the table LoadShedding. Using default value 0.0\n",
      "[INFO    ] (NodeBasedTable): No data file found for the table CostLoadShedding. Using default value 1000.0\n",
      "[INFO    ] (check_units): The columns \"Nunits\" is not present in the power plant database. A value of one will be assumed by default\n",
      "[WARNING ] (build_simulation): No data file or default value found for PriceOfBlackCoal 2 in the zone SA_NEOA. Assuming zero marginal price!\n",
      "[WARNING ] (interconnections): Zone SA_NWOA does not appear to be connected to any other zone in the NTC table. It should be simulated in isolation\n",
      "[INFO    ] (clustering): Clustered 651 original units into 36 new units\n",
      "[INFO    ] (build_simulation): Time to cluster power plants: 21.302369832992554s\n",
      "[WARNING ] (build_simulation): TimeUpMinimum in the power plant data has been rounded to the nearest integer value\n",
      "[WARNING ] (build_simulation): TimeDownMinimum in the power plant data has been rounded to the nearest integer value\n",
      "[INFO    ] (build_simulation): Scaling Storage Power and Capacity by a factor 0.0\n",
      "[WARNING ] (get_gams_path): The provided path for GAMS ( ) does not exist. Trying to locate...\n",
      "[INFO    ] (get_gams_path): Detected /Applications//GAMS27.2/sysdir as GAMS path on this computer\n",
      "[INFO    ] (write_variables): Data Successfully written to Inputs.gdx\n",
      "[INFO    ] (build_simulation): Build finished\n"
     ]
    }
   ],
   "source": [
    "# Build the simulation environment:\n",
    "SimData, FuelPrices, FuelPrices2 = ds.build_simulation(config, LocalSubsidyMultiplier=1, ExportCostMultiplier=1)"
   ]
  },
  {
   "cell_type": "code",
   "execution_count": 10,
   "metadata": {},
   "outputs": [
    {
     "name": "stderr",
     "output_type": "stream",
     "text": [
      "[INFO    ] (solve_GAMS): Using the low-level gams api\n",
      "[WARNING ] (get_gams_path): The provided path for GAMS ( ) does not exist. Trying to locate...\n",
      "[INFO    ] (get_gams_path): Detected /Applications//GAMS27.2/sysdir as GAMS path on this computer\n",
      "[INFO    ] (solve_low_level): Completed simulation in 247.54 seconds\n"
     ]
    }
   ],
   "source": [
    "r = ds.solve_GAMS(config['SimulationDirectory'], config['GAMS_folder'])"
   ]
  },
  {
   "cell_type": "code",
   "execution_count": null,
   "metadata": {},
   "outputs": [],
   "source": []
  }
 ],
 "metadata": {
  "kernelspec": {
   "display_name": "Python 3",
   "language": "python",
   "name": "python3"
  },
  "language_info": {
   "codemirror_mode": {
    "name": "ipython",
    "version": 3
   },
   "file_extension": ".py",
   "mimetype": "text/x-python",
   "name": "python",
   "nbconvert_exporter": "python",
   "pygments_lexer": "ipython3",
   "version": "3.7.3"
  }
 },
 "nbformat": 4,
 "nbformat_minor": 2
}
