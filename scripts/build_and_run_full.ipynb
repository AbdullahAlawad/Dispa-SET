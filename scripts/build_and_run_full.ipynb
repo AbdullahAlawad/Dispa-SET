{
 "cells": [
  {
   "cell_type": "code",
   "execution_count": 1,
   "metadata": {},
   "outputs": [],
   "source": [
    "# Change directory to the root folder of Dispa-SET:\n",
    "import os\n",
    "import importlib\n",
    "os.chdir('..')\n",
    "import numpy as np\n",
    "import pandas as pd\n",
    "import datetime as dt\n",
    "from dispaset.postprocessing import postprocessing as post\n",
    "importlib.reload(post)\n",
    "%matplotlib notebook\n",
    "\n",
    "# Import dispaset\n",
    "import dispaset as ds"
   ]
  },
  {
   "cell_type": "code",
   "execution_count": 2,
   "metadata": {},
   "outputs": [
    {
     "name": "stderr",
     "output_type": "stream",
     "text": [
      "[INFO    ] (load_config_excel): Using config file Simulations/ConfigGCC.xlsx to build the simulation environment\n",
      "[INFO    ] (load_config_excel): Using /Users/abdullahalawad/Dropbox (MIT)/CCES/2017/Energy/Regional trade/UC&ED/dispaset/PycharmProjects/UC Model/Simulations/simulation_GCC as simulation folder\n"
     ]
    }
   ],
   "source": [
    "# Load the configuration file\n",
    "config = ds.load_config_excel('Simulations/ConfigGCC.xlsx')"
   ]
  },
  {
   "cell_type": "code",
   "execution_count": 3,
   "metadata": {},
   "outputs": [],
   "source": [
    "config['SimulationDirectory'] = u'Simulations/Test7'\n",
    "config['StartDate'] = (2016, 7, 11, 0, 0, 0)      # '1/1/16'  (2016, 1, 1, 0, 0, 0)\n",
    "config['StopDate'] = (2016, 7, 17, 0, 0, 0)      # '12/31/16'  (2016, 12, 31, 0, 0, 0)\n",
    "config['HorizonLength'] = 7\n",
    "config['LookAhead'] = 1\n",
    "config['SimulationType'] = u'Integer clustering'                   # simulation type (LP or MILP) and clustering type (Integer or LP clustering)\n",
    "config['ReserveCalculation'] = u'Generic'\n",
    "config['AllowCurtailment'] = 1                                     #1 for True & 0 for False\n",
    "config['GAMS_ModelCode'] = 'GCC_virtual_connections'               #'Standard', 'GCC_virtual_connections', 'GCC_substation_nodes', 'GCC_isolated'"
   ]
  },
  {
   "cell_type": "code",
   "execution_count": 4,
   "metadata": {},
   "outputs": [],
   "source": [
    "config['PriceOfCrudeOil'] = None \n",
    "config['PriceOfDiesel'] = None \n",
    "config['PriceOfGas'] = None \n",
    "config['PriceOfHFO'] = None \n",
    "\n",
    "#config['PriceOfCrudeOil'] = u'Database/FuelPrices/Oil/2016_int.csv'\n",
    "#config['PriceOfDiesel'] = u'Database/FuelPrices/Diesel/2016_int.csv'\n",
    "#config['PriceOfGas'] = u'Database/FuelPrices/Gas/2016_int.csv'\n",
    "#config['PriceOfHFO'] = u'Database/FuelPrices/HFO/2016_int.csv'"
   ]
  },
  {
   "cell_type": "code",
   "execution_count": 5,
   "metadata": {},
   "outputs": [],
   "source": [
    "config['PriceOfCrudeOil 2'] = None \n",
    "config['PriceOfDiesel 2'] = None \n",
    "config['PriceOfGas 2'] = None \n",
    "config['PriceOfHFO 2'] = None \n",
    "\n",
    "#config['PriceOfCrudeOil 2'] = u'Database/FuelPrices/Oil/2016_sub.csv'\n",
    "#config['PriceOfDiesel 2'] = u'Database/FuelPrices/Diesel/2016_sub.csv'\n",
    "#config['PriceOfGas 2'] = u'Database/FuelPrices/Gas/2016_sub.csv'\n",
    "#config['PriceOfHFO 2'] = u'Database/FuelPrices/HFO/2016_sub.csv'"
   ]
  },
  {
   "cell_type": "code",
   "execution_count": 6,
   "metadata": {},
   "outputs": [
    {
     "name": "stderr",
     "output_type": "stream",
     "text": [
      "[INFO    ] (build_simulation): New build started. DispaSET version: b'v2.3-7-g84905e4'\n",
      "[INFO    ] (NodeBasedTable): No data file found for the table LoadShedding. Using default value 0.0\n",
      "[INFO    ] (NodeBasedTable): No data file found for the table CostLoadShedding. Using default value 1000.0\n",
      "[INFO    ] (check_units): The columns \"Nunits\" is not present in the power plant database. A value of one will be assumed by default\n",
      "[WARNING ] (build_simulation): No data file or default value found for PriceOfBlackCoal 2 in the zone UAE. Assuming zero marginal price!\n",
      "[WARNING ] (interconnections): Zone SA_NWOA does not appear to be connected to any other zone in the NTC table. It should be simulated in isolation\n",
      "[INFO    ] (clustering): Clustered 1018 original units into 67 new units\n",
      "[INFO    ] (build_simulation): Time to cluster power plants: 38.886865854263306s\n",
      "[WARNING ] (build_simulation): TimeUpMinimum in the power plant data has been rounded to the nearest integer value\n",
      "[WARNING ] (build_simulation): TimeDownMinimum in the power plant data has been rounded to the nearest integer value\n",
      "[INFO    ] (build_simulation): Scaling Storage Power and Capacity by a factor 0.0\n",
      "[WARNING ] (get_gams_path): The provided path for GAMS ( ) does not exist. Trying to locate...\n",
      "[INFO    ] (get_gams_path): Detected /Applications//GAMS27.2/sysdir as GAMS path on this computer\n",
      "[INFO    ] (write_variables): Data Successfully written to Inputs.gdx\n",
      "[INFO    ] (build_simulation): Build finished\n"
     ]
    }
   ],
   "source": [
    "# Build the simulation environment:\n",
    "SimData, FuelPrices, FuelPrices2 = ds.build_simulation(config, LocalSubsidyMultiplier=1, ExportCostMultiplier=1)"
   ]
  },
  {
   "cell_type": "code",
   "execution_count": 7,
   "metadata": {},
   "outputs": [],
   "source": [
    "#config['GAMS_folder'] = '/Applications//GAMS26.1/sysdir'\n",
    "#config['GAMS_folder'] = 'C:\\GAMS\\win64\\24.7'"
   ]
  },
  {
   "cell_type": "code",
   "execution_count": 8,
   "metadata": {},
   "outputs": [
    {
     "name": "stderr",
     "output_type": "stream",
     "text": [
      "[INFO    ] (solve_GAMS): Using the low-level gams api\n",
      "[WARNING ] (get_gams_path): The provided path for GAMS ( ) does not exist. Trying to locate...\n",
      "[INFO    ] (get_gams_path): Detected /Applications//GAMS27.2/sysdir as GAMS path on this computer\n",
      "[INFO    ] (solve_low_level): Completed simulation in 115.37 seconds\n"
     ]
    }
   ],
   "source": [
    "# Solve using GAMS:\n",
    "r = ds.solve_GAMS(config['SimulationDirectory'], config['GAMS_folder'])"
   ]
  },
  {
   "cell_type": "markdown",
   "metadata": {},
   "source": [
    "##  4 scenarios (all with export dispatch with international prices):\n",
    "#### 1. local dispatch with subsidized prices & export dispatch with international prices\n",
    "#### 2. local dispatch with international prices & export dispatch with international prices\n",
    "#### 3. local dispatch with subsidized prices & no export\n",
    "#### 4. local international with subsidized prices & no export"
   ]
  },
  {
   "cell_type": "code",
   "execution_count": null,
   "metadata": {},
   "outputs": [],
   "source": [
    "# Load the configuration file\n",
    "config = ds.load_config_excel('Simulations/ConfigGCC.xlsx')"
   ]
  },
  {
   "cell_type": "code",
   "execution_count": null,
   "metadata": {},
   "outputs": [],
   "source": [
    "config['SimulationDirectory'] = u'Simulations/simulation_GCC_sub'\n",
    "config['StartDate'] = (2016, 7, 11, 0, 0, 0)                       # '1/1/16'  (2016, 1, 1, 0, 0, 0)\n",
    "config['StopDate'] = (2016, 7, 17, 0, 0, 0)                        # '12/31/16'  (2016, 12, 31, 0, 0, 0)\n",
    "config['HorizonLength'] = 7\n",
    "config['LookAhead'] = 1\n",
    "config['SimulationType'] = u'Integer clustering'                   # simulation type (LP or MILP) and clustering type (Integer or LP clustering)\n",
    "config['ReserveCalculation'] = u'Generic'\n",
    "config['AllowCurtailment'] = 1                                     #1 for True & 0 for False\n",
    "config['GAMS_ModelCode'] = 'GCC_virtual_connections'               #'Standard', 'GCC_virtual_connections', 'GCC_substation_nodes', 'GCC_isolated'\n",
    "\n",
    "config['PriceOfCrudeOil'] = u'Database/FuelPrices/Oil/2016_sub.csv'\n",
    "config['PriceOfDiesel'] = u'Database/FuelPrices/Diesel/2016_sub.csv'\n",
    "config['PriceOfGas'] = u'Database/FuelPrices/Gas/2016_sub.csv'\n",
    "config['PriceOfHFO'] = u'Database/FuelPrices/HFO/2016_sub.csv'"
   ]
  },
  {
   "cell_type": "code",
   "execution_count": null,
   "metadata": {},
   "outputs": [],
   "source": [
    "# Build the simulation environment:\n",
    "SimData, FuelPrices = ds.build_simulation(config2)"
   ]
  },
  {
   "cell_type": "code",
   "execution_count": null,
   "metadata": {},
   "outputs": [],
   "source": [
    "# Solve using GAMS:\n",
    "r = ds.solve_GAMS(config2['SimulationDirectory'], config2['GAMS_folder'])"
   ]
  },
  {
   "cell_type": "code",
   "execution_count": null,
   "metadata": {},
   "outputs": [],
   "source": [
    "# Load the configuration file\n",
    "config2 = ds.load_config_excel('Simulations/ConfigGCC.xlsx')"
   ]
  },
  {
   "cell_type": "code",
   "execution_count": null,
   "metadata": {},
   "outputs": [],
   "source": [
    "config2['SimulationDirectory'] = u'Simulations/simulation_GCC_int'\n",
    "config2['StartDate'] = (2016, 7, 11, 0, 0, 0)                       # '1/1/16'  (2016, 1, 1, 0, 0, 0)\n",
    "config2['StopDate'] = (2016, 7, 17, 0, 0, 0)                        # '12/31/16'  (2016, 12, 31, 0, 0, 0)\n",
    "config2['HorizonLength'] = 7\n",
    "config2['LookAhead'] = 1\n",
    "config2['SimulationType'] = u'Integer clustering'                   # simulation type (LP or MILP) and clustering type (Integer or LP clustering)\n",
    "config2['ReserveCalculation'] = u'Generic'\n",
    "config2['AllowCurtailment'] = 1                                     #1 for True & 0 for False\n",
    "config2['GAMS_ModelCode'] = 'GCC_virtual_connections'               #'Standard', 'GCC_virtual_connections', 'GCC_substation_nodes', 'GCC_isolated'\n",
    "\n",
    "config2['PriceOfCrudeOil'] = u'Database/FuelPrices/Oil/2016_int.csv'\n",
    "config2['PriceOfDiesel'] = u'Database/FuelPrices/Diesel/2016_int.csv'\n",
    "config2['PriceOfGas'] = u'Database/FuelPrices/Gas/2016_int.csv'\n",
    "config2['PriceOfHFO'] = u'Database/FuelPrices/HFO/2016_int.csv'"
   ]
  },
  {
   "cell_type": "code",
   "execution_count": null,
   "metadata": {},
   "outputs": [],
   "source": [
    "# Build the simulation environment:\n",
    "SimData2, FuelPrices2 = ds.build_simulation(config2)"
   ]
  },
  {
   "cell_type": "code",
   "execution_count": null,
   "metadata": {},
   "outputs": [],
   "source": [
    "# Solve using GAMS:\n",
    "r2 = ds.solve_GAMS(config2['SimulationDirectory'], config2['GAMS_folder'])"
   ]
  },
  {
   "cell_type": "code",
   "execution_count": null,
   "metadata": {},
   "outputs": [],
   "source": [
    "# Load the configuration file\n",
    "config3 = ds.load_config_excel('Simulations/ConfigGCC.xlsx')"
   ]
  },
  {
   "cell_type": "code",
   "execution_count": null,
   "metadata": {},
   "outputs": [],
   "source": [
    "config3['SimulationDirectory'] = u'Simulations/simulation_GCC_sub_isolated'\n",
    "config3['StartDate'] = (2016, 7, 11, 0, 0, 0)                       # '1/1/16'  (2016, 1, 1, 0, 0, 0)\n",
    "config3['StopDate'] = (2016, 7, 17, 0, 0, 0)                        # '12/31/16'  (2016, 12, 31, 0, 0, 0)\n",
    "config3['HorizonLength'] = 7\n",
    "config3['LookAhead'] = 1\n",
    "config3['SimulationType'] = u'Integer clustering'                   # simulation type (LP or MILP) and clustering type (Integer or LP clustering)\n",
    "config3['ReserveCalculation'] = u'Generic'\n",
    "config3['AllowCurtailment'] = 1                                     #1 for True & 0 for False\n",
    "config3['GAMS_ModelCode'] = 'GCC_virtual_connections'               #'Standard', 'GCC_virtual_connections', 'GCC_substation_nodes', 'GCC_isolated'\n",
    "\n",
    "config3['PriceOfCrudeOil'] = u'Database/FuelPrices/Oil/2016_sub.csv'\n",
    "config3['PriceOfDiesel'] = u'Database/FuelPrices/Diesel/2016_sub.csv'\n",
    "config3['PriceOfGas'] = u'Database/FuelPrices/Gas/2016_sub.csv'\n",
    "config3['PriceOfHFO'] = u'Database/FuelPrices/HFO/2016_sub.csv'"
   ]
  },
  {
   "cell_type": "code",
   "execution_count": null,
   "metadata": {},
   "outputs": [],
   "source": [
    "# Build the simulation environment:\n",
    "SimData3, FuelPrices3 = ds.build_simulation(config3)"
   ]
  },
  {
   "cell_type": "code",
   "execution_count": null,
   "metadata": {},
   "outputs": [],
   "source": [
    "# Solve using GAMS:\n",
    "r3 = ds.solve_GAMS(config3['SimulationDirectory'], config3['GAMS_folder'])"
   ]
  },
  {
   "cell_type": "code",
   "execution_count": null,
   "metadata": {},
   "outputs": [],
   "source": [
    "# Load the configuration file\n",
    "config4 = ds.load_config_excel('Simulations/ConfigGCC.xlsx')"
   ]
  },
  {
   "cell_type": "code",
   "execution_count": null,
   "metadata": {},
   "outputs": [],
   "source": [
    "config4['SimulationDirectory'] = u'Simulations/simulation_GCC_int_isolated'\n",
    "config4['StartDate'] = (2016, 7, 11, 0, 0, 0)                       # '1/1/16'  (2016, 1, 1, 0, 0, 0)\n",
    "config4['StopDate'] = (2016, 7, 17, 0, 0, 0)                        # '12/31/16'  (2016, 12, 31, 0, 0, 0)\n",
    "config4['HorizonLength'] = 7\n",
    "config4['LookAhead'] = 1\n",
    "config4['SimulationType'] = u'Integer clustering'                   # simulation type (LP or MILP) and clustering type (Integer or LP clustering)\n",
    "config4['ReserveCalculation'] = u'Generic'\n",
    "config4['AllowCurtailment'] = 1                                     #1 for True & 0 for False\n",
    "config4['GAMS_ModelCode'] = 'GCC_virtual_connections'               #'Standard', 'GCC_virtual_connections', 'GCC_substation_nodes', 'GCC_isolated'\n",
    "\n",
    "config4['PriceOfCrudeOil'] = u'Database/FuelPrices/Oil/2016_int.csv'\n",
    "config4['PriceOfDiesel'] = u'Database/FuelPrices/Diesel/2016_int.csv'\n",
    "config4['PriceOfGas'] = u'Database/FuelPrices/Gas/2016_int.csv'\n",
    "config4['PriceOfHFO'] = u'Database/FuelPrices/HFO/2016_int.csv'"
   ]
  },
  {
   "cell_type": "code",
   "execution_count": null,
   "metadata": {},
   "outputs": [],
   "source": [
    "# Build the simulation environment:\n",
    "SimData4, FuelPrices4 = ds.build_simulation(config4)"
   ]
  },
  {
   "cell_type": "code",
   "execution_count": null,
   "metadata": {},
   "outputs": [],
   "source": [
    "# Solve using GAMS:\n",
    "r4 = ds.solve_GAMS(config4['SimulationDirectory'], config4['GAMS_folder'])"
   ]
  },
  {
   "cell_type": "markdown",
   "metadata": {},
   "source": [
    "SimData = {'sets': sets, 'parameters': parameters, 'config': config, 'units': Plants_merged, 'version': dispa_version}\n",
    ".......\n",
    "sets_param = {}\n",
    "    sets_param['AvailabilityFactor']\n",
    ".\n",
    ".\n",
    "parameters = {}\n",
    "for var in sets_param:\n",
    "        parameters[var] = define_parameter(sets_param[var], sets, value=0)\n",
    ".\n",
    ".\n",
    ".\n",
    "sets = {}\n",
    "sets['h'] = [str(x + 1) for x in range(Nhours_long)]\n",
    "sets['z'] =\n",
    ".\n",
    ".\n",
    ".\n",
    "plants = load_csv(config['PowerPlantData'])\n",
    "Plants_merged, mapping = clustering(plants, method='LP')\n",
    ".\n",
    ".\n",
    ".\n",
    "param config: Dictionary with all the configuration fields loaded from the excel file. Output of the 'LoadConfig' function.\n",
    ".\n",
    ".\n",
    ".\n",
    "dispa_version = str(get_git_revision_tag())\n",
    "\n",
    "*******&&&&&&\n",
    "parameters['Config'] = {'sets': ['x_config', 'y_config'], 'val': values}\n",
    "sets['x_config'] = ['FirstDay', 'LastDay', 'RollingHorizon Length', 'RollingHorizon LookAhead']\n",
    "sets['y_config'] = ['year', 'month', 'day']\n",
    "parameters['PowerInitial']['val'] = Plants_merged['InitialPower'].values\n",
    "parameters['PowerInitial']['val'][i] = (Plants_merged['PartLoadMin'][i] + 1) / 2 * Plants_merged['PowerCapacity'][i]\n",
    "parameters['Location']['val'][:, i] = (Plants_merged['Zone'] == config['countries'][i]).values\n",
    "parameters['Fuel']['val'][unit, idx] = True\n",
    "parameters['Technology']['val'][unit, idx] = True\n",
    "parameters['Reserve'] = {'sets': sets_param['Reserve'], 'val': values}\n",
    "parameters['LineNode'] = incidence_matrix(sets, 'l', parameters, 'LineNode')\n",
    "parameters['FlowMinimum']['val'][i, :] = Inter_RoW[l]\n",
    "parameters['CostVariable']['val'][unit, :] = FuelPrices[zone][FuelEntries[FuelEntry]] / Plants_merged['Efficiency'][unit] + Plants_merged['EmissionRate'][unit] * FuelPrices[zone]['PriceOfCO2']\n",
    "\n"
   ]
  }
 ],
 "metadata": {
  "kernelspec": {
   "display_name": "Python 3",
   "language": "python",
   "name": "python3"
  },
  "language_info": {
   "codemirror_mode": {
    "name": "ipython",
    "version": 3
   },
   "file_extension": ".py",
   "mimetype": "text/x-python",
   "name": "python",
   "nbconvert_exporter": "python",
   "pygments_lexer": "ipython3",
   "version": "3.7.3"
  }
 },
 "nbformat": 4,
 "nbformat_minor": 2
}
